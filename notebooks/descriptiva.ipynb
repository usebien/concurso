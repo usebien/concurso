{
 "cells": [
  {
   "cell_type": "code",
   "execution_count": 2,
   "metadata": {},
   "outputs": [],
   "source": [
    "import pandas as pd\n",
    "import statistics\n",
    "import numpy as np\n",
    "\n",
    "import plotly.express as px"
   ]
  },
  {
   "cell_type": "markdown",
   "metadata": {},
   "source": [
    "UNIDAD 3\n",
    "\n",
    "TEORÍA DE LA ESTIMACIÓN\n",
    "\n",
    "<blockquote>\n",
    "Las cantidades numéricas se centran en los valores esperados, los resúmenes gráficos en los valores inesperados.<br/>\n",
    "John Tukey.\n",
    "</blockquote>\n",
    "\n",
    "---\n"
   ]
  },
  {
   "cell_type": "markdown",
   "metadata": {},
   "source": [
    "- Actividad 1\n",
    "\n",
    "_Objetivo_: se trata de iniciar el análisis de forma gradual. Esto es, aprendiendo a utilizar tanto las medidas numéricas y gráficas aplicadas en un contexto donde la información sea mínima (por ejemplo: _n=5_) para luego así incrementar su volumen.\n",
    "\n",
    "Es en ese movimiento gradual en donde entrenaremos la habilidad para estar sensibles al comportamiento de los estadísticos calculados y sus propiedades. O como nos anunciaba John Tukey, entrenaremos las habilidades necesarias para detectar valores o patrones inesperados.\n"
   ]
  },
  {
   "cell_type": "markdown",
   "metadata": {},
   "source": [
    "- Ejercicio 1\n",
    "\n",
    "Contexto: puntuaciones de un solo núcleo (Single-Core scores) de Cinebench R23.\n",
    "\n",
    "Las puntuaciones de un solo núcleo (Single-Core scores) miden la capacidad de un procesador para manejar tareas usando solo un núcleo. Esta puntuación es relevante para aplicaciones que están ligeramente relacionadas, como la navegación web y el procesamiento de textos.\n",
    "\n",
    "Cinebench es una herramienta creada por Maxon que evalúa el rendimiento de la CPU y GPU mediante tareas de renderizado 3D del mundo real.\n",
    "\n",
    "El siguiente conjunto de datos muestra información para la variable _singleScore_ (puntuación de un solo núcleo) y _type_ o tipo (Desktop=Escritorio-, Laptop=Personal) para 5 CPUs.\n",
    "\n",
    "1.a. Resume la información gráficamente mediante un Diagrama de Caja o Boxplot.\n",
    "\n",
    "1.a.1. Comenta sobre su forma, centro y dispersión. Responde: ¿por qué la media y la mediana aparecen casi superpuestas?\n",
    "\n",
    "1.a.2. Recorre de modo interactivo las etiquetas de los puntos prestando atención a _type_, ¿encuentras algún patrón? Si es así, realiza un breve comentario.\n",
    "\n",
    "1.b. Resume la información numéricamente para la variable _singleScore_.\n",
    "\n",
    "1.b.1. Interpreta la media y la mediana.\n",
    "\n",
    "1.b.2 Revisa los valores para los cuartiles y verifica si gráficamente y numéricamente son iguales. Interpreta el 50% de los valores centrales.\n"
   ]
  },
  {
   "cell_type": "code",
   "execution_count": 4,
   "metadata": {},
   "outputs": [],
   "source": [
    "data = [\n",
    "        [1298, 'Desktop'], \n",
    "        [1367, 'Desktop'],\n",
    "        [1440, 'Laptop'],\n",
    "        [1504, 'Laptop'],\n",
    "        [1598, 'Laptop'],\n",
    "        ]\n",
    "df_5_s = pd.DataFrame(\n",
    "    data=data,\n",
    "    columns=['singleScore', 'type'],\n",
    ")"
   ]
  },
  {
   "cell_type": "code",
   "execution_count": null,
   "metadata": {},
   "outputs": [],
   "source": [
    "# Solución 1.a.\n",
    "\n",
    "px.box(df_5_s,\n",
    "            y='singleScore',\n",
    "            points='all',\n",
    "            width=500, \n",
    "            height=450,\n",
    "            hover_data='type',\n",
    "            color_discrete_sequence=['#292929'],\n",
    "            ).update_traces(boxmean=True).update_layout(plot_bgcolor=\"#F7F7F7\").update_traces(quartilemethod=\"inclusive\").update_traces(marker=dict(size=10))"
   ]
  },
  {
   "cell_type": "code",
   "execution_count": null,
   "metadata": {},
   "outputs": [],
   "source": [
    "# Solución 1.b. \n",
    "\n",
    "df_5_s.describe()"
   ]
  },
  {
   "cell_type": "markdown",
   "metadata": {},
   "source": [
    "- Ejercicio 2\n",
    "\n",
    "Contexto: puntuaciones de un solo núcleo según _type_.\n",
    "\n",
    "2.a. Visualiza los siguientes diagramas de caja que comparan dos conjuntos de datos para las puntuaciones de los CPUs -en Cinebench R23- según si son: _Desktop_ o _Laptop_.\n",
    "\n",
    "2.b. Realiza un breve resumen que informe sobre la comparación entre _Desktop_ y _Laptop_. Recuerda: siempre que sea posible, intenta hacerlo de manera completa, es decir, comentando lo que sucede con el centro, forma y dispersión de ambas cajas.\n",
    "\n",
    "2.c. Interactuando con el gráfico, extrae los valores correspondientes para ambas medias y comenta si la diferencia que observas te resulta considerable o no. Puedes ayudarte consultando en Internet sobre el contexto de esas medidas.\n",
    "\n",
    "2.d. Encuentra el desvío estándar para ambos conjuntos. Calcula e interpreta por comparación ambos Coeficientes de Variación.\n"
   ]
  },
  {
   "cell_type": "code",
   "execution_count": null,
   "metadata": {},
   "outputs": [],
   "source": [
    "df_by_type = pd.read_csv('https://raw.githubusercontent.com/usebien/concurso/refs/heads/main/data/descriptiva/df_by_type_drop.csv')"
   ]
  },
  {
   "cell_type": "code",
   "execution_count": null,
   "metadata": {},
   "outputs": [],
   "source": [
    "# Solución 2.a.\n",
    "\n",
    "px.box(df_by_type,\n",
    "            y='singleScore',\n",
    "            points= False, \n",
    "            color='type',\n",
    "            width=500, \n",
    "            height=450,\n",
    "            hover_data='cpuName',\n",
    "            color_discrete_sequence=['#CDAA7D', '#292929'],\n",
    "            ).update_traces(boxmean=True).update_layout(plot_bgcolor=\"#F7F7F7\").update_traces(quartilemethod=\"inclusive\").update_traces(marker=dict(size=8))"
   ]
  },
  {
   "cell_type": "code",
   "execution_count": null,
   "metadata": {},
   "outputs": [],
   "source": [
    "# Solución 2.d. \n",
    "df_by_type.groupby('type')['singleScore'].std()"
   ]
  },
  {
   "cell_type": "markdown",
   "metadata": {},
   "source": [
    "- Ejercicio 3\n",
    "\n",
    "Contexto: _turboClock_ o velocidad de impulso del CPU (medida en GHz).\n",
    "\n",
    "A diferencia del _baseClock_ o -reloj base- que considera la velocidad máxima de reloj sostenida, la velocidad del turbo o _turboClock_ es una velocidad de impulso.\n",
    "\n",
    "Interactúa con el gráfico para visualizar la información necesaria.\n",
    "\n",
    "3.a. En base a la siguiente información (df_desktop) visualiza la variable _turboClock_ mediante un Histograma. Interactúa con el gráfico.\n",
    "\n",
    "3.b. Contextualiza el comportamiento de la variable mediante un breve comentario sobre su forma. Sin aplicar cálculos, ¿qué valores posibles y aproximados podrían describir tanto la media como la mediana?\n",
    "\n",
    "3.c. ¿Cuál es la velocidad _turboClock_ más frecuente?\n",
    "\n",
    "3.d.1. ¿Qué porcentaje de CPUs tiene una velocidad de _turboClock_ de hasta 4.5 GHz?\n",
    "\n",
    "3.d.2. ¿Qué cantidad de CPUs tiene una velocidad de _turboClock_ de 5 GHz o más?\n",
    "\n",
    "3.d.3. ¿Qué porcentaje de CPUs tiene una velocidad de _turboClock_ de entre 4.4 y 4.9 GHz?\n"
   ]
  },
  {
   "cell_type": "code",
   "execution_count": null,
   "metadata": {},
   "outputs": [],
   "source": [
    "df_desktop = pd.read_csv('https://raw.githubusercontent.com/usebien/concurso/refs/heads/main/data/descriptiva/df_desktop.csv')"
   ]
  },
  {
   "cell_type": "code",
   "execution_count": null,
   "metadata": {},
   "outputs": [],
   "source": [
    "px.histogram(df_desktop, \n",
    "             x='turboClock',\n",
    "             width=600, \n",
    "            height=400,\n",
    "            #nbins=8,\n",
    "            color_discrete_sequence=['#6B6B6B'],\n",
    "             ).update_traces(marker=dict(line=dict(width=0.3,color=\"white\"))).update_layout(plot_bgcolor=\"#F7F7F7\")"
   ]
  },
  {
   "cell_type": "markdown",
   "metadata": {},
   "source": [
    "- Ejercicio 4\n",
    "\n",
    "Contexto: proporción de CPUs tipo _Laptop_.\n",
    "\n",
    "De la siguiente información (muestra aleatoria: df*n_60) estudiaremos la proporción en relación a la variable categórica \\_type*. Recordemos que hace referencia al _tipo de CPU_ (volver a ejercicio 1 para referencia de etiquetas).\n",
    "\n",
    "4.a Interactúa con el gráfico para conocer la frecuencia correspondiente a cada modalidad.\n",
    "\n",
    "4.b. ¿Qué porcentaje de CPUs son tipo _Laptop_? Expresa un breve comentario de opinión sobre ese porcentaje en relación al contexto de la información: ese porcentaje, ¿es adecuado a tu realidad cotidiana, o bien es insuficiente, o quizá te resulta exagerado? Con otras palabras: ¿te resulta adecuado en relación a tus compañeros estudiantes de la Facultad de Informática, te resulta adecuado para otras facultades, o incluso para grupos de facultades?\n",
    "\n",
    "4.c ¿Qué otro gráfico se podría utilizar para comunicar información sobre una sola variable categórica? Enuncia ventajas y desventajas.\n",
    "\n",
    "4.d. El valor 0.67 que informa sobre la proporción de CPUs de tipo _Laptop_, ¿es un estadístico o un parámetro? Realiza un breve comentario fundamentando por qué es uno u el otro. Indica además la notación.\n"
   ]
  },
  {
   "cell_type": "code",
   "execution_count": null,
   "metadata": {},
   "outputs": [],
   "source": [
    "# Información\n",
    "\n",
    "df_n_60 = pd.read_csv('https://raw.githubusercontent.com/usebien/concurso/refs/heads/main/data/descriptiva/df_n_60.csv')"
   ]
  },
  {
   "cell_type": "code",
   "execution_count": null,
   "metadata": {},
   "outputs": [],
   "source": [
    "# 4.a. \n",
    "\n",
    "b = {'type': df_n_60['type'].unique(),\n",
    "    'Frecuencia': df_n_60['type'].value_counts(),\n",
    "     'Proporción':  round(df_n_60['type'].value_counts(normalize=True),2)}\n",
    "b = pd.DataFrame(b)\n",
    "b.insert(2, \"dummy\", ['A', 'A'], True)\n",
    "\n",
    "px.bar(b, \n",
    "       x='dummy', \n",
    "       y='Proporción', \n",
    "       color='type',\n",
    "       width=600, \n",
    "       height=400,\n",
    "       text_auto=True,\n",
    "       hover_data= {'Frecuencia': True,'type': True,'dummy': False, 'Proporción': False},\n",
    "       color_discrete_sequence=['#292929', '#CDAA7D']).update_layout(bargap=0.8).update_xaxes(visible=False,showticklabels=False).update_yaxes(visible=True, showticklabels=True).update_traces(insidetextanchor=\"middle\").update_layout( plot_bgcolor=\"#F7F7F7\")"
   ]
  }
 ],
 "metadata": {
  "kernelspec": {
   "display_name": "Python 3",
   "language": "python",
   "name": "python3"
  },
  "language_info": {
   "codemirror_mode": {
    "name": "ipython",
    "version": 3
   },
   "file_extension": ".py",
   "mimetype": "text/x-python",
   "name": "python",
   "nbconvert_exporter": "python",
   "pygments_lexer": "ipython3",
   "version": "3.10.8"
  }
 },
 "nbformat": 4,
 "nbformat_minor": 2
}
