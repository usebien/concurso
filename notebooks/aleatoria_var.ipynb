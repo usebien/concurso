{
 "cells": [
  {
   "cell_type": "code",
   "execution_count": null,
   "metadata": {},
   "outputs": [],
   "source": [
    "import pandas as pd\n",
    "import statistics\n",
    "import numpy as np\n",
    "import random\n",
    "from random import sample\n",
    "import math\n",
    "\n",
    "import itertools\n",
    "from itertools import combinations_with_replacement\n",
    "\n",
    "from scipy.stats import binom\n",
    "from scipy.stats import poisson\n",
    "from scipy.stats import norm\n",
    "from statistics import NormalDist\n",
    "\n",
    "import plotly.express as px"
   ]
  },
  {
   "cell_type": "markdown",
   "metadata": {},
   "source": [
    "UNIDAD 2\n",
    "\n",
    "VARIABLE ALEATORIA\n",
    "\n",
    "> Tal vez las historias son solo datos con alma. Brené Brown.\n",
    "\n",
    "---\n"
   ]
  },
  {
   "cell_type": "markdown",
   "metadata": {},
   "source": [
    "- Ejercicio 1\n",
    "\n",
    "Contexto: lanzamiento de monedas.\n",
    "\n",
    "Volvemos a la situación experimental propuesta en el Ejercicio 2 del práctico de Probabilidad, en donde lanzábamos dos monedas.\n",
    "\n",
    "Sin embargo, ahora definimos la variable aleatoria de interés como:\n",
    "\n",
    "_X : número de caras obtenidas._\n",
    "\n",
    "Repasamos el espacio muestra:\n"
   ]
  },
  {
   "cell_type": "code",
   "execution_count": null,
   "metadata": {},
   "outputs": [],
   "source": [
    "moneda = [1, 0] # cara = 1, \n",
    "s =  list(itertools.product(moneda, repeat=2))\n",
    "s"
   ]
  },
  {
   "cell_type": "markdown",
   "metadata": {},
   "source": [
    "1.a. Expresamos el recorrido para la variable _X_:\n"
   ]
  },
  {
   "cell_type": "code",
   "execution_count": null,
   "metadata": {},
   "outputs": [],
   "source": [
    "# Recorrido (rx) o valores que asume la variable\n",
    "\n",
    "suma = np.sum(s, axis=1)\n",
    "rx = np.unique(suma)\n",
    "rx"
   ]
  },
  {
   "cell_type": "markdown",
   "metadata": {},
   "source": [
    "1.b. En una única tabla, resumimos la información de la siguiente manera:\n",
    "\n",
    "- Recorrido o valores que asume la variable.\n",
    "\n",
    "- Distribución de probabilidad o función masa de probabilidad (fmp).\n",
    "\n",
    "- Función de distribución acumulativa (fda, o F(x)).\n"
   ]
  },
  {
   "cell_type": "code",
   "execution_count": null,
   "metadata": {},
   "outputs": [],
   "source": [
    "x = list(np.sort(rx))\n",
    "p = list(np.array([0.25, 0.5, 0.25]))\n",
    "cum = list(np.cumsum(p))\n",
    "\n",
    "df_tabla =  pd.DataFrame(data=zip(x,p,cum),\n",
    "                        columns=['x','p(x)','F(x)'])\n",
    "df_tabla"
   ]
  },
  {
   "cell_type": "markdown",
   "metadata": {},
   "source": [
    "1.c. Calculamos la Esperanza\n"
   ]
  },
  {
   "cell_type": "code",
   "execution_count": null,
   "metadata": {},
   "outputs": [],
   "source": [
    "esperanza = np.multiply(x, p).sum()\n",
    "print(f'E(X) =',esperanza)"
   ]
  },
  {
   "cell_type": "markdown",
   "metadata": {},
   "source": [
    "1.d. Calculamos la variancia y la desviación estándar\n"
   ]
  },
  {
   "cell_type": "code",
   "execution_count": null,
   "metadata": {},
   "outputs": [
    {
     "name": "stdout",
     "output_type": "stream",
     "text": [
      "V(X) = 0.5\n",
      "DE(x) = 0.71\n"
     ]
    }
   ],
   "source": [
    "x = np.sort(rx)\n",
    "p = np.array([0.25, 0.5, 0.25])\n",
    "\n",
    "variancia =  np.sum((x**2*p)) - esperanza**2\n",
    "print(f'V(X) =', variancia)\n",
    "\n",
    "desvío_estándar =  round(math.sqrt(variancia),2)\n",
    "print(f'DE(x) =', desvío_estándar)"
   ]
  },
  {
   "cell_type": "markdown",
   "metadata": {},
   "source": [
    "- Ejercicio 2\n",
    "\n",
    "Contexto: experimento que consiste en realizar tres lanzamientos de una moneda y cuyo éxito sea obtener cara.\n",
    "\n",
    "Aplica el mismo procedimiento del ejercicio anterior pero modificando las líneas de código utilizadas de manera que ahora se consideren tres lanzamientos de la moneda.\n",
    "\n",
    "2.a. Define la variable de interés y crea una tabla resumen (Rx, fmp, fda).\n",
    "\n",
    "2.b. Calcula e interpreta la esperanza.\n",
    "\n",
    "2.c. Calcula la varianza.\n"
   ]
  },
  {
   "cell_type": "markdown",
   "metadata": {},
   "source": [
    "- Ejercicio 3\n",
    "\n",
    "Contexto: ataques a un servidor web.\n",
    "\n",
    "La siguiente información corresponde a un ejercicio del libro _Manual Básico de Estadística para Ingeniería en Informática_. Ver Referencias.\n",
    "\n",
    "La variable de interés es: _Y: número de ataques diarios a un servidor web._\n"
   ]
  },
  {
   "cell_type": "code",
   "execution_count": null,
   "metadata": {},
   "outputs": [],
   "source": [
    "y = list(np.array([0, 1, 2, 3, 4, 5]))\n",
    "p = list(np.array([0.01, 0.1, 0.3, 0.4, 0.1, 0.09]))\n",
    "cum = list(np.cumsum(p))\n",
    "\n",
    "df_tabla =  pd.DataFrame(data=zip(y, p, cum),\n",
    "                        columns=['y','p(y)','F(y)'])\n",
    "df_tabla"
   ]
  },
  {
   "cell_type": "markdown",
   "metadata": {},
   "source": [
    "3.a. Responde:\n",
    "\n",
    "3.a.1. ¿Cuál es la probabilidad de se que reciban exactamente 2 ataques diarios en el servidor web?\n",
    "\n",
    "3.a.2. ¿Cuál es la probabilidad de se que reciban menos de 2 ataques diarios en el servidor web?\n",
    "\n",
    "3.a.3. ¿Cuál es la probabilidad de se que reciban por lo menos de 2 ataques diarios en el servidor web?\n",
    "\n",
    "3.a.4. ¿Cuál es la probabilidad de se que reciban a lo sumo 4 ataques diarios en el servidor web?\n",
    "\n",
    "3.a.5. ¿Cuál es la probabilidad de se que reciban entre 2 y 4 ataques diarios en el servidor web?\n",
    "\n",
    "3.a.6. ¿Cuántos ataques se espera que ocurran diariamente en el servidor web?\n"
   ]
  },
  {
   "cell_type": "code",
   "execution_count": null,
   "metadata": {},
   "outputs": [],
   "source": [
    "# Solución 3.a.6.\n",
    "\n",
    "esperanza_y =  (df_tabla['y'] * df_tabla['p(y)']).sum()\n",
    "\n",
    "print(f'Se espera que ocurran diariamente',esperanza_y,'ataques al servidor web.')"
   ]
  },
  {
   "cell_type": "markdown",
   "metadata": {},
   "source": [
    "- Ejercicio 4\n",
    "\n",
    "Contexto: Variable Aleatoria Binomial\n",
    "\n",
    "> Creo que el Teorema Binomial y una Fuga de Bach son, a largo plazo, más importantes que todas las batallas de la historia. - James Hilton.\n",
    "\n",
    "4.a. Regresa al Ejercicio 1 y analiza los siguientes puntos-requerimientos (adaptados del libro de Jay Devore, ver Referencias):\n",
    "\n",
    "- Cada ensayo puede dar por resultado uno de los mismos dos resultados posibles (ensayos dicotómicos), denotados como como éxito (E, en nuestro caso, obtener cara ) y falla (F).\n",
    "\n",
    "- Los ensayos son independientes, de modo que el resultado en cualquier ensayo particular -para nosotros, cada lanzamiento de la moneda- no influye en el resultado de cualquier otro ensayo.\n",
    "\n",
    "- La probabilidad de éxito es constante de un ensayo a otro. En efecto, ¿cuál era la probabilidad que asignábamos cuando obteníamos cara?\n",
    "\n",
    "- El experimento consta de una secuencia de _n_ experimentos más pequeños llamados ensayos, donde _n_ se fija antes del experimento. Repensemos aquí en las variaciones del ejercicio que venimos considerando desde el inicio del estudio de probabilidad: iniciamos el experimento con 1 lanzamiento, seguimos con 2 y llegamos a considerar hasta 3 lanzamientos. ¿Podríamos considerar 20 lanzamientos? Sí. No obstante, a continuación veremos cómo modelizar en presencia de un experimento que describa estos cuatro requerimientos.\n"
   ]
  },
  {
   "cell_type": "markdown",
   "metadata": {},
   "source": [
    "- Ejercicio 5\n",
    "\n",
    "Contexto: bits con error en trasmisión digital.\n",
    "\n",
    "El siguiente enunciado fue extraído del libro Ampliación de Estadística para la Ingeniería Técnica en Informática de Gestión (ver Referencias):\n",
    "\n",
    "De todos los bits transmitidos a través de un canal digital, el 10 % se reciben con error.\n",
    "\n",
    "5.a. En base al ejercicio anterior, intenta reconocer en el enunciado cada requerimiento y así verificar que se trata de un experimento Binomial. ¿Falta alguno?\n",
    "\n",
    "5.b. Si se consideran 10 bits transmitidos:\n",
    "\n",
    "5.b.1. Define la variable.\n",
    "\n",
    "5.b.2. Expresa su distribución y asigna los valores de los parámetros correspondientes.\n"
   ]
  },
  {
   "cell_type": "markdown",
   "metadata": {},
   "source": [
    "📌 Recuerda que veremos un módulo específico para aprender a graficar. Por el momento nos concentramos en el código que nos permite avanzar en el conocimiento de las variables aleatorias.\n",
    "\n",
    "Sin embargo, puedes utilizar la opción **Ver Gráficos Recomendados** cada vez que visualizas un DataFrame.\n",
    "\n",
    "Mientras tanto, usaremos un recurso en línea a fin de: por un lado, verificar los cálculos realizados, y por otro, visualizar la forma de algunos modelos.\n"
   ]
  },
  {
   "cell_type": "markdown",
   "metadata": {},
   "source": [
    "5.c. Dirígete a la página 664 del Libro de Jay Devore (ver Referencias). Localiza la _Tabla A.1.b. (n=10)_ de Distribuciones binomiales acumulativas.\n",
    "\n",
    "5.c.1. Si el número de bits transmitidos con error se distribuye Binomial (n=10, p=0.10), verifica que:\n",
    "$$\\text{$P$($X=1$) = 0.387}$$\n"
   ]
  },
  {
   "cell_type": "code",
   "execution_count": 11,
   "metadata": {},
   "outputs": [
    {
     "name": "stdout",
     "output_type": "stream",
     "text": [
      "F(1) - F(0) = 0.736 - 0.349 = 0.387\n",
      "Interpretación: la probabilidad de que se reciba exactamente 1 bit con error es igual a 0.387 .\n"
     ]
    }
   ],
   "source": [
    "# Solución 5.c.1. según Tabla:\n",
    "print(f'F(1) - F(0) = 0.736 - 0.349 =',0.736-0.349)\n",
    "print(f'Interpretación: la probabilidad de que se reciba exactamente 1 bit con error es igual a', 0.736-0.349,'.')"
   ]
  },
  {
   "cell_type": "code",
   "execution_count": 12,
   "metadata": {},
   "outputs": [
    {
     "data": {
      "text/plain": [
       "0.387"
      ]
     },
     "execution_count": 12,
     "metadata": {},
     "output_type": "execute_result"
    }
   ],
   "source": [
    "# Solución 5.c.1. según código:\n",
    "round(binom.pmf(k=1, n=10, p=0.10),3)"
   ]
  },
  {
   "cell_type": "markdown",
   "metadata": {},
   "source": [
    "5.c.2. Dirígete a la siguiente dirección [Matt Bognar, Ph.D., Probability Distribution Applets.](https://homepage.divms.uiowa.edu/~mbognar/applets/bin.html), y verifica finalmente el inciso 5.c.1. Comenta además sobre la forma de la distribución.\n"
   ]
  },
  {
   "cell_type": "markdown",
   "metadata": {},
   "source": [
    "5.d. Calcula e interpreta las siguientes probabilidades.\n",
    "\n",
    "📌 Utiliza código y al menos otro recurso adicional (Tabla de libro o sitio en línea) para verificar y dar tu respuesta.\n",
    "\n",
    "- 5.d.1. $P(X=3)$\n",
    "\n",
    "- 5.d.2. $P(X \\le 1)$\n",
    "\n",
    "- 5.d.3. $P(X < 1)$\n",
    "\n",
    "- 5.d.4. $P(X > 1)$\n",
    "\n",
    "- 5.d.5. $P(X \\ge 1)$\n",
    "\n",
    "- 5.d.6. $P( 1 \\le X \\le 3)$\n"
   ]
  },
  {
   "cell_type": "code",
   "execution_count": null,
   "metadata": {},
   "outputs": [],
   "source": [
    "# Solución 5.d.2. según código.\n",
    "\n",
    "print(f'La probabilidad de que se reciba a lo sumo 1 bit con error es igual a',round(binom.cdf(k=1, n=10, p=0.10),3),'.')"
   ]
  },
  {
   "cell_type": "markdown",
   "metadata": {},
   "source": [
    "📎 Del libro de Jay Devore, dirígete a los EJERCICIOS Sección 3.4 (46-67) -a partir de página 113- y lee los enunciados. No es necesario que los resuelvas. Simplemente realiza una lectura intentando reconocer de cada enunciado cuál es la variable de interés, cómo se define y cuáles son sus parámetros.\n"
   ]
  },
  {
   "cell_type": "markdown",
   "metadata": {},
   "source": [
    "- Ejercicio 6\n",
    "\n",
    "Contexto: cortes durante el día en una organización.\n",
    "\n",
    "La información del siguiente enunciado pertenece al libro de Ana Maldonado - ver Referencias-.\n",
    "\n",
    "6.a. Se sabe que el número de cortes en la red en una determinada organización es, en promedio, de dos cada día. ¿Cuál es la probabilidad de que en un día concreto se produzcan tres cortes?\n",
    "\n",
    "6.b. Antes de continuar, revisa la Teoría vista en Clase e intenta explicar con tus palabras qué diferencia o distingue a una variable aleatoria Binomial de otra que sigue un proceso Poisson.\n",
    "\n",
    "6.c. Define la variable e indica su distribución.\n",
    "\n",
    "6.d. Dirígete a la página 667 del libro de Jay Devore e identifica la _Tabla A.2. Distribuciones acumulativas de Poisson_.\n",
    "\n",
    "6.e. ¿Cuántos cortes de red se espera que ocurran en 10 días? Compara las formas de de las distribuciones para la variable original y la correspondiente a este inciso. ¿Qué forma aparece?\n"
   ]
  },
  {
   "cell_type": "code",
   "execution_count": null,
   "metadata": {},
   "outputs": [],
   "source": [
    "# Solución inciso 6.c. \n",
    "print('X: Número de cortes en la red de una organización por día.')\n",
    "print('X ~ Poisson(𝝀 = 2)')"
   ]
  },
  {
   "cell_type": "code",
   "execution_count": null,
   "metadata": {},
   "outputs": [],
   "source": [
    "# Solución 6.a. por código\n",
    "round(poisson.pmf(k=3, mu=2),3)\n",
    "print(f'La probabilidad de que ocurran 3 cortes en la red de la organización en un día es igual a', round(poisson.pmf(k=3, mu=2),3), '.')"
   ]
  },
  {
   "cell_type": "code",
   "execution_count": null,
   "metadata": {},
   "outputs": [],
   "source": [
    "# Solución 6.a. verificación por Tabla\n",
    "round(0.857-0.677, 3)"
   ]
  },
  {
   "cell_type": "markdown",
   "metadata": {},
   "source": [
    "- Ejercicio 7\n",
    "\n",
    "Contexto: velocidad de procesadores.\n",
    "\n",
    "El siguiente enunciado es una versión modificada de la información presente en el libro de Ana Maldonado -ver Referencias-.\n",
    "\n",
    "La velocidad de los procesadores sigue una distribución Normal con un valor medio de 2 GHz y una desviación estándar de 0.2 GHz.\n",
    "\n",
    "7.a. ¿Cuál es la probabilidad de la velocidad de los procesadores sea menor a 1.6 GHz?\n",
    "\n",
    "7.b. ¿Cuál es la probabilidad de la velocidad de los procesadores sea mayor a 1.6 GHz?\n",
    "\n",
    "7.c. Si para las tareas básicas una velocidad que esté entre 1.6 GHz y 2.5 GHz es aceptable para tareas básicas, ¿cuál es esa probabilidad?\n",
    "\n",
    "7.d. ¿Cuál es la velocidad mínima para el 10% de aquellos procesadores más veloces?\n"
   ]
  },
  {
   "cell_type": "code",
   "execution_count": null,
   "metadata": {},
   "outputs": [],
   "source": [
    "# Solución 7.b\n",
    "\n",
    "print(round(NormalDist(mu=2, sigma=0.2).cdf(1.6),3), f'es la probabilidad de que la velocidad de los procesadores sea menor a 1.6 GHz.')"
   ]
  },
  {
   "cell_type": "markdown",
   "metadata": {},
   "source": [
    "🖥 Informática.\n",
    "\n",
    "Antes de continuar, piensa en el contexto de tu profesión. Intenta identificar al menos una variable propia de tu campo de estudio que se relacione con la distribución Binomial, Poisson y Normal.\n"
   ]
  },
  {
   "cell_type": "markdown",
   "metadata": {},
   "source": [
    "✨ Generar variables aleatorias.\n",
    "\n",
    "Genera variables mediante código, explorando y aplicando aquellas variaciones que te resulten interesantes. Por ejemplo, diferentes valores que podría asumir _p_ en una distribución Binomial.\n"
   ]
  },
  {
   "cell_type": "code",
   "execution_count": null,
   "metadata": {},
   "outputs": [],
   "source": [
    "# Ejemplo\n",
    "# Generar variable aleatoria Binomial con forma -asimétrica izquierda-.\n",
    "\n",
    "n, p = 10, .75  \n",
    "sbin = np.random.binomial(n, p, 1000)\n",
    "df_sbin =  pd.DataFrame(data=sbin, columns=['x'])\n",
    "df_sbin"
   ]
  },
  {
   "cell_type": "markdown",
   "metadata": {},
   "source": [
    "<blockquote>\n",
    "La repetición no es repetición.  La misma acción te hace sentir algo completamente diferente al final.<br/>\n",
    "Pina Bausch.\n",
    "</blockquote>\n",
    "\n",
    "Aquí la idea es descubrir un primer contacto con cierto tipo de información -base de datos- e idealizar cómo manipular esa información.\n",
    "\n",
    "Primera tarea: visitar este sitio y verificar qué tipo de licencia tiene la información: [Benchmark results of popular CPUs, scraped from Cinebench R23](https://www.kaggle.com/datasets/alanjo/cpu-benchmarks/data?select=CPU_r23_v2.csv)\n",
    "\n",
    "Segunda: visualiza el DataFrame y analiza su estructura.\n",
    "\n",
    "Tercera: intenta reconocer con qué variables sería posible aplicar los conocimientos aprendidos en este módulo y organiza tanto preguntas como potenciales líneas de código para responderlas.\n"
   ]
  },
  {
   "cell_type": "code",
   "execution_count": null,
   "metadata": {},
   "outputs": [],
   "source": [
    "# Visualiza df.\n",
    "df_cpu = pd.read_csv('https://raw.githubusercontent.com/usebien/concurso/refs/heads/main/data/probabilidad/CPU_r23_v2.csv')"
   ]
  },
  {
   "cell_type": "code",
   "execution_count": null,
   "metadata": {},
   "outputs": [],
   "source": [
    "df_cpu"
   ]
  },
  {
   "cell_type": "markdown",
   "metadata": {},
   "source": [
    "---\n"
   ]
  },
  {
   "cell_type": "markdown",
   "metadata": {},
   "source": [
    "- Referencias\n",
    "\n",
    "Devore, J. L. (2008). _Probabilidad y Estadística para Ingeniería y Ciencias. (7ma Edición)_. Cengage Learning Editores.\n",
    "\n",
    "López, I. y Huerta, P. (2010). _Ampliación de Estadística para la Ingeniería Técnica en Informática de Gestión_. Publicacions de la Universitat Jaume I.\n",
    "\n",
    "Maldonado, A. et al. (2023). _Manual básico de Estadística para Ingeniería Informática_. Editorial Universidad de Almería.\n"
   ]
  }
 ],
 "metadata": {
  "kernelspec": {
   "display_name": "Python 3",
   "language": "python",
   "name": "python3"
  },
  "language_info": {
   "codemirror_mode": {
    "name": "ipython",
    "version": 3
   },
   "file_extension": ".py",
   "mimetype": "text/x-python",
   "name": "python",
   "nbconvert_exporter": "python",
   "pygments_lexer": "ipython3",
   "version": "3.10.8"
  }
 },
 "nbformat": 4,
 "nbformat_minor": 2
}
