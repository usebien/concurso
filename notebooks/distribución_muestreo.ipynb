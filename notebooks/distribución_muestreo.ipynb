{
 "cells": [
  {
   "cell_type": "code",
   "execution_count": 1,
   "metadata": {},
   "outputs": [],
   "source": [
    "import pandas as pd\n",
    "import statistics\n",
    "import numpy as np\n",
    "import random\n",
    "from random import sample\n",
    "import itertools\n",
    "import matplotlib.pyplot as plt\n",
    "import scipy.stats as stats"
   ]
  },
  {
   "cell_type": "markdown",
   "metadata": {},
   "source": [
    "UNIDAD 3\n",
    "\n",
    "DISTRIBUCIÓN EN EL MUESTREO\n"
   ]
  },
  {
   "cell_type": "markdown",
   "metadata": {},
   "source": [
    "<blockquote>\n",
    "Todos los grandes científicos han sido, en cierto sentido, grandes artistas. Sin imaginación se pueden recopilar hechos, pero no se pueden hacer grandes descubrimientos.<br/>\n",
    "Karl Pearson\n",
    "</blockquote>\n",
    "\n",
    "---\n"
   ]
  },
  {
   "cell_type": "markdown",
   "metadata": {},
   "source": [
    "Objetivo para esta guía de Actividades: pensar la filosofía estadística desde el largo plazo -o _long run_-.\n",
    "\n",
    "Cerca del año 1900, el estadístico inglés Karl Pearson lanzó una moneda el aire 24.000 veces, resultando 12012 caras (una proporción de 0,5005).\n"
   ]
  },
  {
   "cell_type": "markdown",
   "metadata": {},
   "source": [
    "- Contexto: lanzamiento de una moneda.\n",
    "\n",
    "Aunque hemos lanzado la moneda ya varias veces, lo hicimos solo para algunos lanzamientos, 2 o 3 veces.\n",
    "\n",
    "Ahora la propuesta es acompañar la intuición -sobre que sucede en el largo plazo- con resultados numéricos mediante simulación.\n",
    "\n",
    "Hasta aquí, centramos la atención en el número de caras que aparecía en relación al experimento de lanzar una moneda. En cambio, desde aquí comenzaremos a considerar el comportamiento de la proporción, cuando la variable de interés sea categórica, y el comportamiento del promedio cuando la variable sea cuantitativa.\n"
   ]
  },
  {
   "cell_type": "markdown",
   "metadata": {},
   "source": [
    "- Ejercicio 1\n",
    "\n",
    "  1.a. Aplica el lanzamiento de la siguiente _moneda_ 20 veces. Presta atención a los valores de la proporción de caras resultante. Nota: para aplicar una y otra vez y así visualizar el efecto por aleatoriedad, aprieta de manera secuencial el botón con el ícono ▷ play en cada celda.\n",
    "\n",
    "  1.b. Ya no 20, hagamos 20000 lanzamientos. Por comparación con la situación anterior, ¿qué comportamiento observas? ¿Qué sucede cuando la proporción se contextualiza en relación a la información que proveen 20 lanzamientos en contraste con aquella otra que proviene de 20000 lanzamientos?\n"
   ]
  },
  {
   "cell_type": "code",
   "execution_count": null,
   "metadata": {},
   "outputs": [],
   "source": [
    "# código 1.a.\n",
    "\n",
    "n = 20\n",
    "moneda = ['cara', 'cruz']\n",
    "res = random.choices(moneda, k = n)\n",
    "df_res = pd.DataFrame(\n",
    " data=res,\n",
    " columns=['lanzamiento']\n",
    ")\n",
    "df_res.value_counts(normalize=True).sort_index()"
   ]
  },
  {
   "cell_type": "code",
   "execution_count": null,
   "metadata": {},
   "outputs": [],
   "source": [
    "# código 1.b.\n",
    "\n",
    "n = 20000\n",
    "moneda = ['cara', 'cruz']\n",
    "res = random.choices(moneda, k = n)\n",
    "df_res = pd.DataFrame(\n",
    " data=res,\n",
    " columns=['lanzamiento']\n",
    ")\n",
    "df_res.value_counts(normalize=True).sort_index()"
   ]
  },
  {
   "cell_type": "markdown",
   "metadata": {},
   "source": [
    "- Actividad 2\n",
    "\n",
    "Contexto: comportamiento de la proporción muestral en muestras aleatorias\n",
    "\n",
    "Consideraremos dos poblaciones finitas diferentes. De cada una de ellas, aplicaremos selecciones aleatorias con reemplazo. Revisa la teoría para verificar estas condiciones.\n",
    "\n",
    "Estaremos interesados en la proporción de personas que utilizan o bien _Android_ o _IOS_ como sistema operativo de sus celulares o móviles. Además, supondremos que la información sobre la proporción poblacional es conocida y proviene de fuentes que realizan mediciones permanentes del mercado.\n",
    "\n",
    "- Población 1: proporción de usuarios con sistema Android = 0.5, proporción de usuarios con IOS = 0.5.\n",
    "\n",
    "- Población 2: proporción de usuarios con sistema Android = 0.74, proporción de usuarios con IOS = 0.26.\n",
    "\n",
    "Antes de continuar y según tu conocimiento y percepción, ¿qué población te resulta más cercana a la realidad?\n"
   ]
  },
  {
   "cell_type": "markdown",
   "metadata": {},
   "source": [
    "- Aplicación actividad 2\n",
    "\n",
    "En las siguientes dos celdas, encontrarás el código para aplicar la selección aleatoria.\n",
    "\n",
    "La idea es repetir la selección con diferentes tamaños: primero igual a 10, luego 20, después 50 y por último 100. Puedes probar con otros a modo de complemento, siempre que no supere el tamaño de 100.\n",
    "\n",
    "De cada aplicación -recuerda cliquear el botón ▷ play una y otra vez para repetir la selección-, presta atención precisamente al comportamiento de la proporción en cada situación y luego comparativamente a medida que aumentas el tamaño (10, 20, etcétera).\n",
    "\n",
    "Finalmente, comenta cuáles tamaños de muestra cumplirían con las condiciones vistas en la Teoría.\n"
   ]
  },
  {
   "cell_type": "code",
   "execution_count": null,
   "metadata": {},
   "outputs": [],
   "source": [
    "df_b = pd.read_csv('https://raw.githubusercontent.com/usebien/concurso/refs/heads/main/data/sdist/df_mobile_b.csv')"
   ]
  },
  {
   "cell_type": "code",
   "execution_count": null,
   "metadata": {},
   "outputs": [],
   "source": [
    "df_b.sample(\n",
    "    n=10, # Modifica esta línea: 10, luego 20, 50, hasta 100.\n",
    "    replace=True,\n",
    "    ).value_counts(normalize=True)"
   ]
  },
  {
   "cell_type": "code",
   "execution_count": null,
   "metadata": {},
   "outputs": [],
   "source": [
    "df_unb = pd.read_csv('https://raw.githubusercontent.com/usebien/concurso/refs/heads/main/data/sdist/df_mobile_unb.csv')"
   ]
  },
  {
   "cell_type": "code",
   "execution_count": null,
   "metadata": {},
   "outputs": [],
   "source": [
    "df_unb.sample(\n",
    "    n=10, # Modifica esta línea: 10, luego 20, 50, 100.\n",
    "    replace=True,\n",
    "    ).value_counts(normalize=True)"
   ]
  },
  {
   "cell_type": "markdown",
   "metadata": {},
   "source": [
    "- Actividad 3\n",
    "\n",
    "Contexto: comportamiento de la media muestral en muestras aleatorias.\n",
    "\n",
    "La información contenida en la siguiente actividad pertenece al libro de Spiegel y Stephens -ver Referencias-.\n",
    "\n",
    "Objetivo: analizar cómo se comporta la media muestral a medida que aumenta tanto la cantidad de información (o tamaño de _n_) así como también la repetición de muestras.\n",
    "\n",
    "A tal fin dividiremos la actividad en varias etapas:\n",
    "\n",
    "3.a. Encuentra la media de la población.\n",
    "\n",
    "- Población: [2, 3, 6, 8, 11].\n",
    "\n",
    "  3.b. Considera todas las muestras posibles de tamaño 2 que se puedan extraer con reemplazo de la población y calcula la media para cada una de esas muestras posibles.\n",
    "\n",
    "  3.c. Luego calcula la media -valor esperado- de la distribución muestral de la media (X_Raya) y verifica si es igual a la media de la población original.\n",
    "\n",
    "  3.c. Visualiza la regularidad que aparece en el largo plazo para el comportamiento de la media muestral.\n"
   ]
  },
  {
   "cell_type": "code",
   "execution_count": null,
   "metadata": {},
   "outputs": [],
   "source": [
    "# Solución 3.a. \n",
    "\n",
    "pob = [2, 3, 6, 8, 11]\n",
    "\n",
    "mu =  statistics.mean(pob)\n",
    "print(f'La media de la población µ =', mu)"
   ]
  },
  {
   "cell_type": "code",
   "execution_count": null,
   "metadata": {},
   "outputs": [],
   "source": [
    "# Solución 3.b\n",
    "\n",
    "swr =  list(itertools.product(pob, repeat=2))\n",
    "df =  pd.DataFrame(data=swr,\n",
    "                        columns=['x1', 'x2'])\n",
    "df['x_raya'] = df[['x1', 'x2']].mean(axis=1)\n",
    "df"
   ]
  },
  {
   "cell_type": "code",
   "execution_count": null,
   "metadata": {},
   "outputs": [],
   "source": [
    "# Solución 3.c \n",
    "\n",
    "esperanza_x_raya =  df['x_raya'].mean()\n",
    "print(f'La media -valor esperado- de la distribución de X_raya es', esperanza_x_raya) "
   ]
  },
  {
   "cell_type": "code",
   "execution_count": null,
   "metadata": {},
   "outputs": [],
   "source": [
    "# Solución 3.c\n",
    "# Verificamos que la media -valor esperado- de la distribución X_Raya es igual a la media  de la distribución original X.\n",
    "\n",
    "mu == esperanza_x_raya"
   ]
  },
  {
   "cell_type": "code",
   "execution_count": null,
   "metadata": {},
   "outputs": [],
   "source": [
    "# 3.c.\n",
    "\n",
    "n_muestras = 10000\n",
    "info = [2, 3, 6, 8, 11]\n",
    "info_muestras = random.choices(info, k = n_muestras)\n",
    "cum_media = np.cumsum(info_muestras)/(np.arange(1, n_muestras+1))\n",
    "\n",
    "plt.plot(cum_media, color= '#363636')\n",
    "plt.axhline(y=6, linestyle='dotted', color='#9F79EE')"
   ]
  },
  {
   "cell_type": "markdown",
   "metadata": {},
   "source": [
    "- Ejercicio 4\n",
    "\n",
    "Contexto: consideraremos una última situación en donde -a diferencia de la actividad anterior- en la que cada elemento de la población describía la misma probabilidad de ser seleccionado, ahora dispondremos de una distribución de probabilidad que asignará valores distintos.\n",
    "\n",
    "Además, para que verifiquemos cada cálculo y sea posible volver a revisar cada paso, utilizaremos la información contenida en el siguiente ejercicio del libro de Jay Devore -p.205, Ejemplo 5.20, ver Referencias-.\n",
    "\n",
    "4.a. Visualiza la información.\n",
    "\n",
    "4.b. Crea una tabla en donde se puedan resumir:\n",
    "\n",
    "- Todas las muestras posibles de tamaño igual a 2.\n",
    "\n",
    "- Correspondiente asignación de probabilidades.\n",
    "\n",
    "- Valores de la media para cada una de las muestras.\n",
    "\n",
    "  4.c. Calcula el valor esperado para X_Raya y verifica si es igual a la media de la población original.\n",
    "\n",
    "  4.d. Calcula el valor de la varianza para X_Raya y verifica si es igual a la Varianza de la población original.\n"
   ]
  },
  {
   "cell_type": "code",
   "execution_count": null,
   "metadata": {},
   "outputs": [],
   "source": [
    "# Solución 4.a. \n",
    "\n",
    "x = [40, 45, 50]\n",
    "p = [0.2, 0.3, 0.5]\n",
    "\n",
    "df_pob = pd.DataFrame(\n",
    "    data=zip(x, p),\n",
    "    columns=('x', 'p(x)')\n",
    ")\n",
    "df_pob"
   ]
  },
  {
   "cell_type": "code",
   "execution_count": null,
   "metadata": {},
   "outputs": [],
   "source": [
    "# Solución 4.b.\n",
    "\n",
    "swr =  list(itertools.product(x, repeat=2))\n",
    "df =  pd.DataFrame(data=swr,\n",
    "                        columns=['x1', 'x2'])\n",
    "\n",
    "swr_p = list(itertools.product((p), repeat=2))\n",
    "df_p =  pd.DataFrame(data=swr_p,\n",
    "                        columns=['p_x1', 'p_x2'])\n",
    "df['p(x1,x2)'] = df_p.p_x1 * df_p.p_x2\n",
    "df['x_raya'] = df[['x1', 'x2']].mean(axis=1)\n",
    "df"
   ]
  },
  {
   "cell_type": "code",
   "execution_count": null,
   "metadata": {},
   "outputs": [],
   "source": [
    "# Solución 4.c.\n",
    "\n",
    "original = stats.rv_discrete(name='original', values=(df_pob['x'], df_pob['p(x)']))\n",
    "\n",
    "dist_x_raya = stats.rv_discrete(name='dist_x_raya', values=(df['x_raya'], df['p(x1,x2)']))\n",
    "\n",
    "print('La media de la Población Original es igual a', original.mean())\n",
    "print('La media de la Distribución de X_Raya es igual a', dist_x_raya.mean())"
   ]
  },
  {
   "cell_type": "code",
   "execution_count": null,
   "metadata": {},
   "outputs": [],
   "source": [
    "# Solución 4.d.\n",
    "\n",
    "original = stats.rv_discrete(name='original', values=(df_pob['x'], df_pob['p(x)']))\n",
    "\n",
    "dist_x_raya = stats.rv_discrete(name='dist_x_raya', values=(df['x_raya'], df['p(x1,x2)']))\n",
    "\n",
    "print('La Varianza de la Población Original es igual a', original.var())\n",
    "print('La Varianza de la Distribución de X_Raya es igual a', dist_x_raya.var())"
   ]
  },
  {
   "cell_type": "markdown",
   "metadata": {},
   "source": [
    "- Referencias\n",
    "\n",
    "Devore, J. L. (2008). _Probabilidad y Estadística para Ingeniería y Ciencias. (7ma Edición)_. Cengage Learning Editores.\n",
    "\n",
    "Spiegel M. y Stephens L. _Schaum's outline Statistics_. (6ta Edición). McGraw-Hill Education.\n"
   ]
  }
 ],
 "metadata": {
  "kernelspec": {
   "display_name": "Python 3",
   "language": "python",
   "name": "python3"
  },
  "language_info": {
   "codemirror_mode": {
    "name": "ipython",
    "version": 3
   },
   "file_extension": ".py",
   "mimetype": "text/x-python",
   "name": "python",
   "nbconvert_exporter": "python",
   "pygments_lexer": "ipython3",
   "version": "3.10.8"
  }
 },
 "nbformat": 4,
 "nbformat_minor": 2
}
